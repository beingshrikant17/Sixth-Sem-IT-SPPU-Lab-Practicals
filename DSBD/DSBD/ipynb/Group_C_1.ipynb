{
  "nbformat": 4,
  "nbformat_minor": 0,
  "metadata": {
    "colab": {
      "provenance": []
    },
    "kernelspec": {
      "name": "python3",
      "display_name": "Python 3"
    },
    "language_info": {
      "name": "python"
    }
  },
  "cells": [
    {
      "cell_type": "code",
      "source": [
        "import requests\n",
        "import bs4\n",
        "request1 = requests.get('https://www.flipkart.com/redmi-10-midnight-black-64-gb/p/itmd93641e4ebb47?pid=MOBGC9GYEBH3GZ4E&lid=LSTMOBGC9GYEBH3GZ4E44YY0L&marketplace=FLIPKART&fm=productRecommendation%2Fsimilar&iid=R%3As%3Bp%3AMOBG73E7GKQK4KZP%3Bpt%3App%3Buid%3Aac8a3859-f4de-11ed-aa73-955faf22b2d0%3B.MOBGC9GYEBH3GZ4E&ppt=pp&ppn=pp&ssid=smh40m1g000000001684347262906&otracker=pp_reco_Similar%2BProducts_3_35.productCard.PMU_HORIZONTAL_REDMI%2B10%2B%2528Midnight%2BBlack%252C%2B64%2BGB%2529_MOBGC9GYEBH3GZ4E_productRecommendation%2Fsimilar_2&otracker1=pp_reco_PINNED_productRecommendation%2Fsimilar_Similar%2BProducts_GRID_productCard_cc_3_NA_view-all&cid=MOBGC9GYEBH3GZ4E')\n",
        "request1\n",
        "request1.content \n",
        "soup = bs4.BeautifulSoup(request1.text)\n",
        "soup\n",
        "#Fetching Reviews/Comments\n",
        "reviews = soup.find_all('div',{'class' : 't-ZTKy'});\n",
        "for review in reviews:\n",
        "  print(review.get_text() + \"\\n\\n\")\n",
        "\n"
      ],
      "metadata": {
        "colab": {
          "base_uri": "https://localhost:8080/"
        },
        "id": "5HFNlE3G26ME",
        "outputId": "f0b15c23-c917-493b-c77c-98a930e78d98"
      },
      "execution_count": 1,
      "outputs": [
        {
          "output_type": "stream",
          "name": "stdout",
          "text": [
            "Nice product nice design of phone camera quality is good and also nice phoneREAD MORE\n",
            "\n",
            "\n",
            "Good phone in this price range, battery backup good, camera ok ok, and performance very very good 🔥 I am mi love And very fast delivery Flipkart, thanksREAD MORE\n",
            "\n",
            "\n",
            "Very nice mobile 🥳😊Performance is very good 😊Camera quality good 😊Good zooming colour boost ✨I love it😘Thank you Flipkart 😇✨READ MORE\n",
            "\n",
            "\n",
            "Good phone very nice working and good performance nice lookREAD MORE\n",
            "\n",
            "\n",
            "Mobile is best in this price rangeProcessor Qualcomm Snapdragon 680 is really powerful for multitasking and gamingCamera 📷 Night mode is amazing 🤩Battery life is outstanding fabulous performanceReal 6000 MahOverall excellent performance5 star for Flipkart servicesREAD MORE\n",
            "\n",
            "\n",
            "This phone camera is not good but you can use if you are a first phone buyerBattery is awesome after heavy use also not need to charge in a day Display also impresive in this segment HD+ 6.7inch quality was goodSpeaker is loud and clear no any problemPerformance is sometimes not good you can play candy crush game but frame drops are so high, I think I am using right now 90hz panel bcoz i feel poco M4 pro .Now your i first smartphone buyer this phone is greatREAD MORE\n",
            "\n",
            "\n",
            "Better backup osm ans camere clarity is very good 😊 i am happy for this product bec this product is excellent and this budget price is good  very happy 😁READ MORE\n",
            "\n",
            "\n",
            "I m a regular customer of Mi ...redmi 10is awesome 👍. It's charging is very fast ...i m giving this review after 2 months ....i m satisfied with this ...plz go for this guys ..really awesome 👍 products...thanks FlipkartREAD MORE\n",
            "\n",
            "\n",
            "Really amazing mobile.. Camera quality is very nice.. battery backup also good.. i am fully satisfied with this product.. Super fast delivery Thanks Flipkart..READ MORE\n",
            "\n",
            "\n",
            "Awesome 😎 Product Redmi has made cool phone this phone camera clicks a photo with HDR which will rock . And performance is the main thing in redmi . Front camera is 🤳 5 mega pixel but comes like 18 mega pixel. Although Redmi 10 is rocking phone.READ MORE\n",
            "\n",
            "\n"
          ]
        }
      ]
    },
    {
      "cell_type": "code",
      "source": [
        "#Average Overall rating\n",
        "ratings = soup.find('div',{'class':'_3LWZlK'}).get_text();\n",
        "print(ratings)"
      ],
      "metadata": {
        "colab": {
          "base_uri": "https://localhost:8080/"
        },
        "id": "rl14FF2Y3guk",
        "outputId": "7cc7d158-b05f-4de2-d6bb-ebf7311628e8"
      },
      "execution_count": 2,
      "outputs": [
        {
          "output_type": "stream",
          "name": "stdout",
          "text": [
            "4.3\n"
          ]
        }
      ]
    },
    {
      "cell_type": "code",
      "source": [
        "#Individual ratings\n",
        "individual_ratings = soup.findAll('div',{'class':'_3LWZlK _1BLPMq'});\n",
        "for indi_rating in individual_ratings:\n",
        "  print(indi_rating.get_text() + \" \\n\")"
      ],
      "metadata": {
        "colab": {
          "base_uri": "https://localhost:8080/"
        },
        "id": "2i5xwg836WGN",
        "outputId": "be6cd885-8947-4cc7-cb45-288791dee2eb"
      },
      "execution_count": 3,
      "outputs": [
        {
          "output_type": "stream",
          "name": "stdout",
          "text": [
            "5 \n",
            "\n",
            "5 \n",
            "\n",
            "4 \n",
            "\n",
            "5 \n",
            "\n",
            "5 \n",
            "\n",
            "4 \n",
            "\n",
            "5 \n",
            "\n",
            "5 \n",
            "\n",
            "5 \n",
            "\n",
            "5 \n",
            "\n"
          ]
        }
      ]
    },
    {
      "cell_type": "code",
      "source": [
        "#Fetching tags\n",
        "tags = soup.find('span',{'class':'yhB1nd GXgmTe'}).get_text();\n",
        "tags"
      ],
      "metadata": {
        "colab": {
          "base_uri": "https://localhost:8080/",
          "height": 35
        },
        "id": "QWt1uvpE6YH7",
        "outputId": "3feb223d-6aee-4cc5-9d6b-7a524f05344e"
      },
      "execution_count": 4,
      "outputs": [
        {
          "output_type": "execute_result",
          "data": {
            "text/plain": [
              "'#JustHere'"
            ],
            "application/vnd.google.colaboratory.intrinsic+json": {
              "type": "string"
            }
          },
          "metadata": {},
          "execution_count": 4
        }
      ]
    },
    {
      "cell_type": "code",
      "source": [
        "#Fetching Customer Names\n",
        "customer_name = soup.findAll('p',{'class':'_2sc7ZR _2V5EHH'});\n",
        "for cust_name in customer_name:\n",
        "  print(cust_name.get_text() + \" \\n\")"
      ],
      "metadata": {
        "colab": {
          "base_uri": "https://localhost:8080/"
        },
        "id": "_McVeF1n6cUU",
        "outputId": "e7c08bec-c2c9-42bf-dd1e-ac2fa95c7f62"
      },
      "execution_count": 5,
      "outputs": [
        {
          "output_type": "stream",
          "name": "stdout",
          "text": [
            "Mohd ashraf Mohd ashraf Zargar \n",
            "\n",
            "Rupam Dhara \n",
            "\n",
            "Soumadip Mondal \n",
            "\n",
            "Kuldeep Singh \n",
            "\n",
            "Rahul Dhochak \n",
            "\n",
            "Nilesh  Gaidhani \n",
            "\n",
            "Flipkart Customer \n",
            "\n",
            "nitish gaurav \n",
            "\n",
            "Flipkart Customer \n",
            "\n",
            "Deepak kumar Shrivastava \n",
            "\n"
          ]
        }
      ]
    },
    {
      "cell_type": "code",
      "source": [
        "#create data\n",
        "data = [[\"1\", \"Good phone in this price range, battery backup good, camera ok ok, and performance very very good 🔥 I am mi love And very fast delivery Flipkart, thanks\", 5, \"just here\", \"Rupam Dhara\" ],\n",
        "        [], \n",
        "        [\"2\", \"Very nice mobile 🥳😊Performance is very good 😊Camera quality good 😊Good zooming colour boost ✨I love it😘Thank you Flipkart 😇✨\", 4, \"just here\", \"Soumadip Mondal\" ],\n",
        "        [],\n",
        "        [\"3\", \"Good phone very nice working and good performance nice look\", 5, \"just here\", \"Kuldeep Singh\" ],\n",
        "        [],\n",
        "        [\"4\", \"Mobile is best in this price rangeProcessor Qualcomm Snapdragon 680 is really powerful for multitasking and gamingCamera 📷 Night mode is amazing 🤩Battery life is outstanding fabulous performanceReal 6000 MahOverall excellent performance5 star for Flipkart services\", 5, \"just here\", \"Rahul Dhochak\" ],\n",
        "        [],\n",
        "        [\"5\", \"Mobile is best in this price rangeProcessor Qualcomm Snapdragon 680 is really powerful for multitasking and gamingCamera 📷 Night mode is amazing 🤩Battery life is outstanding fabulous performanceReal 6000 MahOverall excellent performance5 star for Flipkart services\", 4, \"just here\", \"Nilesh  Gaidhani\" ],]\n",
        "  \n",
        "#define header names\n",
        "col_names = [\"Sr.No.\", \"Reviews/Comments\", \"Rating\", \"Tags\", \"Customer Name\"]\n",
        "  \n",
        "#display table\n",
        "from tabulate import tabulate\n",
        "print(tabulate(data, headers=col_names))"
      ],
      "metadata": {
        "colab": {
          "base_uri": "https://localhost:8080/"
        },
        "id": "iAqqNsrq6ebj",
        "outputId": "3c388467-f701-4d11-9cdc-6930d1841025"
      },
      "execution_count": 7,
      "outputs": [
        {
          "output_type": "stream",
          "name": "stdout",
          "text": [
            "  Sr.No.  Reviews/Comments                                                                                                                                                                                                                                                              Rating  Tags       Customer Name\n",
            "--------  --------------------------------------------------------------------------------------------------------------------------------------------------------------------------------------------------------------------------------------------------------------------------  --------  ---------  ----------------\n",
            "       1  Good phone in this price range, battery backup good, camera ok ok, and performance very very good 🔥 I am mi love And very fast delivery Flipkart, thanks                                                                                                                          5  just here  Rupam Dhara\n",
            "\n",
            "       2  Very nice mobile 🥳😊Performance is very good 😊Camera quality good 😊Good zooming colour boost ✨I love it😘Thank you Flipkart 😇✨                                                                                                                                               4  just here  Soumadip Mondal\n",
            "\n",
            "       3  Good phone very nice working and good performance nice look                                                                                                                                                                                                                        5  just here  Kuldeep Singh\n",
            "\n",
            "       4  Mobile is best in this price rangeProcessor Qualcomm Snapdragon 680 is really powerful for multitasking and gamingCamera 📷 Night mode is amazing 🤩Battery life is outstanding fabulous performanceReal 6000 MahOverall excellent performance5 star for Flipkart services         5  just here  Rahul Dhochak\n",
            "\n",
            "       5  Mobile is best in this price rangeProcessor Qualcomm Snapdragon 680 is really powerful for multitasking and gamingCamera 📷 Night mode is amazing 🤩Battery life is outstanding fabulous performanceReal 6000 MahOverall excellent performance5 star for Flipkart services         4  just here  Nilesh  Gaidhani\n"
          ]
        }
      ]
    },
    {
      "cell_type": "code",
      "source": [],
      "metadata": {
        "id": "7GoIJeoxLg0C"
      },
      "execution_count": null,
      "outputs": []
    }
  ]
}